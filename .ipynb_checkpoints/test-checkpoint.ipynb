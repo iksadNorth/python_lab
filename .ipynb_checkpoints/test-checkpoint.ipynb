{
 "cells": [
  {
   "cell_type": "markdown",
   "id": "04ced4fa",
   "metadata": {},
   "source": [
    "# 사칙연산"
   ]
  },
  {
   "cell_type": "markdown",
   "id": "fa7c6c75",
   "metadata": {},
   "source": [
    "#### 나눗셈"
   ]
  },
  {
   "cell_type": "code",
   "execution_count": 1,
   "id": "c4305314",
   "metadata": {},
   "outputs": [
    {
     "data": {
      "text/plain": [
       "1666.6666666666667"
      ]
     },
     "execution_count": 1,
     "metadata": {},
     "output_type": "execute_result"
    }
   ],
   "source": [
    "5000 / 3"
   ]
  },
  {
   "cell_type": "code",
   "execution_count": 2,
   "id": "237430e9",
   "metadata": {},
   "outputs": [
    {
     "data": {
      "text/plain": [
       "1666"
      ]
     },
     "execution_count": 2,
     "metadata": {},
     "output_type": "execute_result"
    }
   ],
   "source": [
    "5000 // 3"
   ]
  },
  {
   "cell_type": "code",
   "execution_count": 3,
   "id": "04d2d2c4",
   "metadata": {},
   "outputs": [
    {
     "data": {
      "text/plain": [
       "2"
      ]
     },
     "execution_count": 3,
     "metadata": {},
     "output_type": "execute_result"
    }
   ],
   "source": [
    "5000 % 3"
   ]
  },
  {
   "cell_type": "code",
   "execution_count": 4,
   "id": "b382d30f",
   "metadata": {},
   "outputs": [
    {
     "data": {
      "text/plain": [
       "(1666, 2)"
      ]
     },
     "execution_count": 4,
     "metadata": {},
     "output_type": "execute_result"
    }
   ],
   "source": [
    "divmod(5000, 3)"
   ]
  },
  {
   "cell_type": "markdown",
   "id": "0ff205c2",
   "metadata": {},
   "source": [
    "#### 제곱"
   ]
  },
  {
   "cell_type": "code",
   "execution_count": 10,
   "id": "469a9c3d",
   "metadata": {},
   "outputs": [
    {
     "data": {
      "text/plain": [
       "81"
      ]
     },
     "execution_count": 10,
     "metadata": {},
     "output_type": "execute_result"
    }
   ],
   "source": [
    "3 ** 4"
   ]
  },
  {
   "cell_type": "markdown",
   "id": "0a1a822b",
   "metadata": {},
   "source": [
    "# 변수"
   ]
  },
  {
   "cell_type": "markdown",
   "id": "d7ab9fe1",
   "metadata": {},
   "source": [
    "##### 자료형 - 정수형"
   ]
  },
  {
   "cell_type": "code",
   "execution_count": 5,
   "id": "36878909",
   "metadata": {},
   "outputs": [],
   "source": [
    "a = 123\n",
    "b = -178\n",
    "c = 0"
   ]
  },
  {
   "cell_type": "markdown",
   "id": "1c9483d0",
   "metadata": {},
   "source": [
    "##### 자료형 - 실수형"
   ]
  },
  {
   "cell_type": "code",
   "execution_count": 7,
   "id": "845475c5",
   "metadata": {},
   "outputs": [],
   "source": [
    "a = 1.2\n",
    "b = -3.45\n",
    "c = 4.24e-10"
   ]
  },
  {
   "cell_type": "markdown",
   "id": "516abea9",
   "metadata": {},
   "source": [
    "##### 자료형 - 8진수, 16진수"
   ]
  },
  {
   "cell_type": "code",
   "execution_count": 9,
   "id": "2d59cc28",
   "metadata": {},
   "outputs": [],
   "source": [
    "a = 0o177\n",
    "b = 0x3ff"
   ]
  },
  {
   "cell_type": "markdown",
   "id": "e5cb149c",
   "metadata": {},
   "source": [
    "#### 문자열 "
   ]
  },
  {
   "cell_type": "code",
   "execution_count": 11,
   "id": "9f1ded69",
   "metadata": {},
   "outputs": [
    {
     "data": {
      "text/plain": [
       "'Hello World'"
      ]
     },
     "execution_count": 11,
     "metadata": {},
     "output_type": "execute_result"
    }
   ],
   "source": [
    " \"Hello World\""
   ]
  },
  {
   "cell_type": "code",
   "execution_count": 12,
   "id": "51cdbcfb",
   "metadata": {},
   "outputs": [
    {
     "data": {
      "text/plain": [
       "'Python is fun'"
      ]
     },
     "execution_count": 12,
     "metadata": {},
     "output_type": "execute_result"
    }
   ],
   "source": [
    "'Python is fun'"
   ]
  },
  {
   "cell_type": "code",
   "execution_count": 13,
   "id": "af71a325",
   "metadata": {},
   "outputs": [
    {
     "data": {
      "text/plain": [
       "'Life is too short, \\n\\nyou need python'"
      ]
     },
     "execution_count": 13,
     "metadata": {},
     "output_type": "execute_result"
    }
   ],
   "source": [
    "\"\"\"Life is too short, \n",
    "\n",
    "you need python\"\"\""
   ]
  },
  {
   "cell_type": "code",
   "execution_count": 14,
   "id": "aa81eed7",
   "metadata": {},
   "outputs": [
    {
     "data": {
      "text/plain": [
       "'Life is too short, \\n\\nYou need python'"
      ]
     },
     "execution_count": 14,
     "metadata": {},
     "output_type": "execute_result"
    }
   ],
   "source": [
    "'''Life is too short, \n",
    "\n",
    "You need python'''"
   ]
  },
  {
   "cell_type": "code",
   "execution_count": 15,
   "id": "05a1a1a4",
   "metadata": {},
   "outputs": [
    {
     "data": {
      "text/plain": [
       "\"Python's favorite food is 'perl' \""
      ]
     },
     "execution_count": 15,
     "metadata": {},
     "output_type": "execute_result"
    }
   ],
   "source": [
    "\"Python's favorite food is 'perl' \""
   ]
  },
  {
   "cell_type": "code",
   "execution_count": 17,
   "id": "ecd3e7ed",
   "metadata": {},
   "outputs": [
    {
     "data": {
      "text/plain": [
       "'Python\"s favorite food is \"perl\" '"
      ]
     },
     "execution_count": 17,
     "metadata": {},
     "output_type": "execute_result"
    }
   ],
   "source": [
    "'Python\"s favorite food is \"perl\" '"
   ]
  },
  {
   "cell_type": "code",
   "execution_count": 19,
   "id": "c54c50bb",
   "metadata": {},
   "outputs": [
    {
     "data": {
      "text/plain": [
       "'Python\\'s favorite food is \"perl\" '"
      ]
     },
     "execution_count": 19,
     "metadata": {},
     "output_type": "execute_result"
    }
   ],
   "source": [
    "'Python\\'s favorite food is \"perl\" '"
   ]
  },
  {
   "cell_type": "markdown",
   "id": "796a0171",
   "metadata": {},
   "source": [
    "#### 특수한 문자열"
   ]
  },
  {
   "cell_type": "code",
   "execution_count": 2,
   "id": "269c184f",
   "metadata": {},
   "outputs": [
    {
     "data": {
      "text/plain": [
       "'http://localhost:8888/notebooks/jupyter_notebook/test.ipynb'"
      ]
     },
     "execution_count": 2,
     "metadata": {},
     "output_type": "execute_result"
    }
   ],
   "source": [
    "# 이스케이프 문자를 신경 안쓰고 문자를 입력할 수 있음\n",
    "r\"http://localhost:8888/notebooks/jupyter_notebook/test.ipynb\""
   ]
  },
  {
   "cell_type": "code",
   "execution_count": 4,
   "id": "3e67b901",
   "metadata": {},
   "outputs": [
    {
     "data": {
      "text/plain": [
       "'x의 값은 1이다.'"
      ]
     },
     "execution_count": 4,
     "metadata": {},
     "output_type": "execute_result"
    }
   ],
   "source": [
    "# 기존에 입력했던 변수들을 이용해서 문자열 포메팅을 구현한다.\n",
    "x = 1\n",
    "f\"x의 값은 {x}이다.\""
   ]
  },
  {
   "cell_type": "markdown",
   "id": "c9c19fe6",
   "metadata": {},
   "source": [
    "#### 문자열 포메팅 - %"
   ]
  },
  {
   "cell_type": "code",
   "execution_count": 20,
   "id": "0db23b2e",
   "metadata": {},
   "outputs": [
    {
     "data": {
      "text/plain": [
       "'이 다음은 3이다.'"
      ]
     },
     "execution_count": 20,
     "metadata": {},
     "output_type": "execute_result"
    }
   ],
   "source": [
    "\"이 다음은 %d이다.\" % 3"
   ]
  },
  {
   "cell_type": "code",
   "execution_count": 21,
   "id": "97d3917d",
   "metadata": {},
   "outputs": [
    {
     "data": {
      "text/plain": [
       "'나는 충주 사과를 먹는다.'"
      ]
     },
     "execution_count": 21,
     "metadata": {},
     "output_type": "execute_result"
    }
   ],
   "source": [
    "\"나는 %s 사과를 먹는다.\"  % \"충주\""
   ]
  },
  {
   "cell_type": "code",
   "execution_count": 22,
   "id": "6e4fb870",
   "metadata": {},
   "outputs": [
    {
     "data": {
      "text/plain": [
       "'이렇게 설탕와 초코파이를 섞으면 맛있어 진다.'"
      ]
     },
     "execution_count": 22,
     "metadata": {},
     "output_type": "execute_result"
    }
   ],
   "source": [
    "\"이렇게 %s와 %s를 섞으면 맛있어 진다.\" % ('설탕', \"초코파이\")"
   ]
  },
  {
   "attachments": {
    "image.png": {
     "image/png": "[encoded data removed]"
    }
   },
   "cell_type": "markdown",
   "id": "a531d676",
   "metadata": {},
   "source": [
    "![image.png](attachment:image.png)"
   ]
  },
  {
   "cell_type": "code",
   "execution_count": 23,
   "id": "85fad1e5",
   "metadata": {},
   "outputs": [
    {
     "data": {
      "text/plain": [
       "'   3.14152'"
      ]
     },
     "execution_count": 23,
     "metadata": {},
     "output_type": "execute_result"
    }
   ],
   "source": [
    "'%10.5f' % 3.141516"
   ]
  },
  {
   "cell_type": "markdown",
   "id": "ed5505c1",
   "metadata": {},
   "source": [
    "#### 문자열 포메팅 - format"
   ]
  },
  {
   "cell_type": "code",
   "execution_count": 24,
   "id": "68f124d4",
   "metadata": {},
   "outputs": [
    {
     "data": {
      "text/plain": [
       "'I eat 3 apples'"
      ]
     },
     "execution_count": 24,
     "metadata": {},
     "output_type": "execute_result"
    }
   ],
   "source": [
    "\"I eat {0} apples\".format(3)"
   ]
  },
  {
   "cell_type": "code",
   "execution_count": 25,
   "id": "bc7415c4",
   "metadata": {},
   "outputs": [
    {
     "data": {
      "text/plain": [
       "'I eat 3 apples'"
      ]
     },
     "execution_count": 25,
     "metadata": {},
     "output_type": "execute_result"
    }
   ],
   "source": [
    "\"I eat {num} apples\".format(num=3)"
   ]
  },
  {
   "cell_type": "code",
   "execution_count": 26,
   "id": "78dfa3d5",
   "metadata": {},
   "outputs": [
    {
     "data": {
      "text/plain": [
       "'hi        '"
      ]
     },
     "execution_count": 26,
     "metadata": {},
     "output_type": "execute_result"
    }
   ],
   "source": [
    "\"{0:<10}\".format(\"hi\")"
   ]
  },
  {
   "cell_type": "code",
   "execution_count": 27,
   "id": "98d13b04",
   "metadata": {},
   "outputs": [
    {
     "data": {
      "text/plain": [
       "'        hi'"
      ]
     },
     "execution_count": 27,
     "metadata": {},
     "output_type": "execute_result"
    }
   ],
   "source": [
    "\"{0:>10}\".format(\"hi\")"
   ]
  },
  {
   "cell_type": "code",
   "execution_count": 28,
   "id": "c054b44d",
   "metadata": {},
   "outputs": [
    {
     "data": {
      "text/plain": [
       "'    hi    '"
      ]
     },
     "execution_count": 28,
     "metadata": {},
     "output_type": "execute_result"
    }
   ],
   "source": [
    "\"{0:^10}\".format(\"hi\")"
   ]
  },
  {
   "cell_type": "code",
   "execution_count": 29,
   "id": "65f10d2f",
   "metadata": {},
   "outputs": [
    {
     "data": {
      "text/plain": [
       "'====hi===='"
      ]
     },
     "execution_count": 29,
     "metadata": {},
     "output_type": "execute_result"
    }
   ],
   "source": [
    "\"{0:=^10}\".format(\"hi\")"
   ]
  },
  {
   "cell_type": "code",
   "execution_count": 30,
   "id": "6c1a1c4a",
   "metadata": {},
   "outputs": [
    {
     "data": {
      "text/plain": [
       "'나의 이름은 홍길동입니다. 나이는 30입니다.'"
      ]
     },
     "execution_count": 30,
     "metadata": {},
     "output_type": "execute_result"
    }
   ],
   "source": [
    "name = '홍길동'\n",
    "age = 30\n",
    "f'나의 이름은 {name}입니다. 나이는 {age}입니다.'"
   ]
  },
  {
   "cell_type": "code",
   "execution_count": 33,
   "id": "736ced64",
   "metadata": {},
   "outputs": [
    {
     "data": {
      "text/plain": [
       "'____hi____'"
      ]
     },
     "execution_count": 33,
     "metadata": {},
     "output_type": "execute_result"
    }
   ],
   "source": [
    "f'{\"hi\":_^10}' "
   ]
  },
  {
   "cell_type": "markdown",
   "id": "3d399fa7",
   "metadata": {},
   "source": [
    "#### 문자열 관련 함수"
   ]
  },
  {
   "cell_type": "code",
   "execution_count": 34,
   "id": "ea903ae9",
   "metadata": {},
   "outputs": [],
   "source": [
    "a = \"Python is the best choice\""
   ]
  },
  {
   "cell_type": "code",
   "execution_count": 36,
   "id": "c4e850b0",
   "metadata": {},
   "outputs": [
    {
     "data": {
      "text/plain": [
       "2"
      ]
     },
     "execution_count": 36,
     "metadata": {},
     "output_type": "execute_result"
    }
   ],
   "source": [
    "a.count('o')"
   ]
  },
  {
   "cell_type": "code",
   "execution_count": 40,
   "id": "9f63b574",
   "metadata": {},
   "outputs": [
    {
     "name": "stdout",
     "output_type": "stream",
     "text": [
      "14\n",
      "-1\n"
     ]
    }
   ],
   "source": [
    "print(a.find('b'))\n",
    "\n",
    "print(a.find('k'))"
   ]
  },
  {
   "cell_type": "code",
   "execution_count": 41,
   "id": "c74125e1",
   "metadata": {},
   "outputs": [
    {
     "name": "stdout",
     "output_type": "stream",
     "text": [
      "2\n"
     ]
    },
    {
     "ename": "ValueError",
     "evalue": "substring not found",
     "output_type": "error",
     "traceback": [
      "\u001b[1;31m---------------------------------------------------------------------------\u001b[0m",
      "\u001b[1;31mValueError\u001b[0m                                Traceback (most recent call last)",
      "\u001b[1;32m~\\AppData\\Local\\Temp/ipykernel_19816/1275817607.py\u001b[0m in \u001b[0;36m<module>\u001b[1;34m\u001b[0m\n\u001b[0;32m      1\u001b[0m \u001b[0mprint\u001b[0m\u001b[1;33m(\u001b[0m\u001b[0ma\u001b[0m\u001b[1;33m.\u001b[0m\u001b[0mindex\u001b[0m\u001b[1;33m(\u001b[0m\u001b[1;34m't'\u001b[0m\u001b[1;33m)\u001b[0m\u001b[1;33m)\u001b[0m\u001b[1;33m\u001b[0m\u001b[1;33m\u001b[0m\u001b[0m\n\u001b[0;32m      2\u001b[0m \u001b[1;33m\u001b[0m\u001b[0m\n\u001b[1;32m----> 3\u001b[1;33m \u001b[0mprint\u001b[0m\u001b[1;33m(\u001b[0m\u001b[0ma\u001b[0m\u001b[1;33m.\u001b[0m\u001b[0mindex\u001b[0m\u001b[1;33m(\u001b[0m\u001b[1;34m'k'\u001b[0m\u001b[1;33m)\u001b[0m\u001b[1;33m)\u001b[0m\u001b[1;33m\u001b[0m\u001b[1;33m\u001b[0m\u001b[0m\n\u001b[0m",
      "\u001b[1;31mValueError\u001b[0m: substring not found"
     ]
    }
   ],
   "source": [
    "print(a.index('t'))\n",
    "\n",
    "print(a.index('k'))"
   ]
  },
  {
   "cell_type": "code",
   "execution_count": 42,
   "id": "a9ae2919",
   "metadata": {},
   "outputs": [
    {
     "data": {
      "text/plain": [
       "'a, b, c, d'"
      ]
     },
     "execution_count": 42,
     "metadata": {},
     "output_type": "execute_result"
    }
   ],
   "source": [
    "\", \".join('abcd')"
   ]
  },
  {
   "cell_type": "code",
   "execution_count": 43,
   "id": "b81b117e",
   "metadata": {},
   "outputs": [
    {
     "data": {
      "text/plain": [
       "'PYTHON IS THE BEST CHOICE'"
      ]
     },
     "execution_count": 43,
     "metadata": {},
     "output_type": "execute_result"
    }
   ],
   "source": [
    "a.upper()"
   ]
  },
  {
   "cell_type": "code",
   "execution_count": 44,
   "id": "a5672e19",
   "metadata": {},
   "outputs": [
    {
     "data": {
      "text/plain": [
       "'python is the best choice'"
      ]
     },
     "execution_count": 44,
     "metadata": {},
     "output_type": "execute_result"
    }
   ],
   "source": [
    "a.lower()"
   ]
  },
  {
   "cell_type": "code",
   "execution_count": 45,
   "id": "0e7fa296",
   "metadata": {},
   "outputs": [],
   "source": [
    "b = \"  d  \""
   ]
  },
  {
   "cell_type": "code",
   "execution_count": 46,
   "id": "961af5d6",
   "metadata": {},
   "outputs": [
    {
     "data": {
      "text/plain": [
       "'d  '"
      ]
     },
     "execution_count": 46,
     "metadata": {},
     "output_type": "execute_result"
    }
   ],
   "source": [
    "b.lstrip()"
   ]
  },
  {
   "cell_type": "code",
   "execution_count": 47,
   "id": "68cd2596",
   "metadata": {},
   "outputs": [
    {
     "data": {
      "text/plain": [
       "'  d'"
      ]
     },
     "execution_count": 47,
     "metadata": {},
     "output_type": "execute_result"
    }
   ],
   "source": [
    "b.rstrip()"
   ]
  },
  {
   "cell_type": "code",
   "execution_count": 48,
   "id": "9e0d8838",
   "metadata": {},
   "outputs": [
    {
     "data": {
      "text/plain": [
       "'d'"
      ]
     },
     "execution_count": 48,
     "metadata": {},
     "output_type": "execute_result"
    }
   ],
   "source": [
    "b.strip()"
   ]
  },
  {
   "cell_type": "code",
   "execution_count": 52,
   "id": "361b95d4",
   "metadata": {},
   "outputs": [
    {
     "data": {
      "text/plain": [
       "'Playing a game is the best choice'"
      ]
     },
     "execution_count": 52,
     "metadata": {},
     "output_type": "execute_result"
    }
   ],
   "source": [
    "a.replace('Python', 'Playing a game')"
   ]
  },
  {
   "cell_type": "code",
   "execution_count": 53,
   "id": "24fa16a1",
   "metadata": {},
   "outputs": [
    {
     "data": {
      "text/plain": [
       "['Python', 'is', 'the', 'best', 'choice']"
      ]
     },
     "execution_count": 53,
     "metadata": {},
     "output_type": "execute_result"
    }
   ],
   "source": [
    "a.split()"
   ]
  },
  {
   "cell_type": "markdown",
   "id": "f19eeab4",
   "metadata": {},
   "source": [
    "# 컬렉션"
   ]
  },
  {
   "cell_type": "markdown",
   "id": "0b62bea5",
   "metadata": {},
   "source": [
    "### 리스트 자료형\n",
    "> 리스트는 자바와 달리 컬렉션에 다양한 타입의 객체를 모을 수 있다."
   ]
  },
  {
   "cell_type": "code",
   "execution_count": 54,
   "id": "873ea44a",
   "metadata": {},
   "outputs": [],
   "source": [
    "d = [1, 2, 'Life', 'is']"
   ]
  },
  {
   "cell_type": "code",
   "execution_count": 70,
   "id": "81623308",
   "metadata": {},
   "outputs": [],
   "source": [
    "a = [1, 2, 3]\n",
    "b = [4, 5, 6]"
   ]
  },
  {
   "cell_type": "code",
   "execution_count": 71,
   "id": "46bda46a",
   "metadata": {},
   "outputs": [
    {
     "data": {
      "text/plain": [
       "[1, 2, 3, 4, 5, 6]"
      ]
     },
     "execution_count": 71,
     "metadata": {},
     "output_type": "execute_result"
    }
   ],
   "source": [
    "a + b"
   ]
  },
  {
   "cell_type": "code",
   "execution_count": 72,
   "id": "d0bab501",
   "metadata": {},
   "outputs": [],
   "source": [
    "a.extend(b)"
   ]
  },
  {
   "cell_type": "code",
   "execution_count": 73,
   "id": "bb51acf4",
   "metadata": {},
   "outputs": [
    {
     "data": {
      "text/plain": [
       "[1, 2, 3, 4, 5, 6]"
      ]
     },
     "execution_count": 73,
     "metadata": {},
     "output_type": "execute_result"
    }
   ],
   "source": [
    "a"
   ]
  },
  {
   "cell_type": "code",
   "execution_count": 57,
   "id": "489beb5b",
   "metadata": {},
   "outputs": [
    {
     "data": {
      "text/plain": [
       "[1, 2, 3, 1, 2, 3]"
      ]
     },
     "execution_count": 57,
     "metadata": {},
     "output_type": "execute_result"
    }
   ],
   "source": [
    "a * 2"
   ]
  },
  {
   "cell_type": "code",
   "execution_count": 58,
   "id": "e5ba0a55",
   "metadata": {},
   "outputs": [
    {
     "data": {
      "text/plain": [
       "3"
      ]
     },
     "execution_count": 58,
     "metadata": {},
     "output_type": "execute_result"
    }
   ],
   "source": [
    "len(a)"
   ]
  },
  {
   "cell_type": "markdown",
   "id": "2514c625",
   "metadata": {},
   "source": [
    "#### 리스트 수정, 삭제, 추가"
   ]
  },
  {
   "cell_type": "code",
   "execution_count": 109,
   "id": "046c5032",
   "metadata": {},
   "outputs": [],
   "source": [
    "a = [1,2,3]"
   ]
  },
  {
   "cell_type": "code",
   "execution_count": 110,
   "id": "34a9aaeb",
   "metadata": {},
   "outputs": [],
   "source": [
    "a[1] = 4"
   ]
  },
  {
   "cell_type": "code",
   "execution_count": 111,
   "id": "c3dc53c6",
   "metadata": {},
   "outputs": [
    {
     "data": {
      "text/plain": [
       "[1, 4, 3]"
      ]
     },
     "execution_count": 111,
     "metadata": {},
     "output_type": "execute_result"
    }
   ],
   "source": [
    "a"
   ]
  },
  {
   "cell_type": "code",
   "execution_count": 112,
   "id": "e5be207e",
   "metadata": {},
   "outputs": [],
   "source": [
    "del a[1]"
   ]
  },
  {
   "cell_type": "code",
   "execution_count": 113,
   "id": "c79a37f9",
   "metadata": {},
   "outputs": [
    {
     "data": {
      "text/plain": [
       "[1, 3]"
      ]
     },
     "execution_count": 113,
     "metadata": {},
     "output_type": "execute_result"
    }
   ],
   "source": [
    "a"
   ]
  },
  {
   "cell_type": "code",
   "execution_count": 114,
   "id": "94545e1a",
   "metadata": {},
   "outputs": [],
   "source": [
    "a.remove(3)"
   ]
  },
  {
   "cell_type": "code",
   "execution_count": 115,
   "id": "b66b2658",
   "metadata": {},
   "outputs": [
    {
     "data": {
      "text/plain": [
       "[1]"
      ]
     },
     "execution_count": 115,
     "metadata": {},
     "output_type": "execute_result"
    }
   ],
   "source": [
    "a"
   ]
  },
  {
   "cell_type": "code",
   "execution_count": 116,
   "id": "3bf168bb",
   "metadata": {},
   "outputs": [],
   "source": [
    "a.append(5)"
   ]
  },
  {
   "cell_type": "code",
   "execution_count": 117,
   "id": "e4b0496a",
   "metadata": {},
   "outputs": [
    {
     "data": {
      "text/plain": [
       "[1, 5]"
      ]
     },
     "execution_count": 117,
     "metadata": {},
     "output_type": "execute_result"
    }
   ],
   "source": [
    "a"
   ]
  },
  {
   "cell_type": "code",
   "execution_count": 118,
   "id": "b08ce751",
   "metadata": {},
   "outputs": [],
   "source": [
    "a.insert(0, 7)"
   ]
  },
  {
   "cell_type": "code",
   "execution_count": 119,
   "id": "7d5e9e83",
   "metadata": {},
   "outputs": [
    {
     "data": {
      "text/plain": [
       "[7, 1, 5]"
      ]
     },
     "execution_count": 119,
     "metadata": {},
     "output_type": "execute_result"
    }
   ],
   "source": [
    "a"
   ]
  },
  {
   "cell_type": "markdown",
   "id": "702db11a",
   "metadata": {},
   "source": [
    "#### 리스트 정렬"
   ]
  },
  {
   "cell_type": "code",
   "execution_count": 120,
   "id": "9f991a77",
   "metadata": {},
   "outputs": [],
   "source": [
    "a = [1,5,65,23,76,2]"
   ]
  },
  {
   "cell_type": "code",
   "execution_count": 121,
   "id": "4e5adfd3",
   "metadata": {},
   "outputs": [],
   "source": [
    "a.sort()"
   ]
  },
  {
   "cell_type": "code",
   "execution_count": 122,
   "id": "00e8eca8",
   "metadata": {},
   "outputs": [
    {
     "data": {
      "text/plain": [
       "[1, 2, 5, 23, 65, 76]"
      ]
     },
     "execution_count": 122,
     "metadata": {},
     "output_type": "execute_result"
    }
   ],
   "source": [
    "a"
   ]
  },
  {
   "cell_type": "code",
   "execution_count": 123,
   "id": "8e9bcbb2",
   "metadata": {},
   "outputs": [],
   "source": [
    "a.reverse()"
   ]
  },
  {
   "cell_type": "code",
   "execution_count": 124,
   "id": "331157df",
   "metadata": {},
   "outputs": [
    {
     "data": {
      "text/plain": [
       "[76, 65, 23, 5, 2, 1]"
      ]
     },
     "execution_count": 124,
     "metadata": {},
     "output_type": "execute_result"
    }
   ],
   "source": [
    "a"
   ]
  },
  {
   "cell_type": "markdown",
   "id": "71e5362d",
   "metadata": {},
   "source": [
    "### 튜플과 리스트의 차이점\n",
    "\n",
    "> 튜플은 immutable 객체라서 값의 생성, 삭제, 수정이 불가능하지만 리스트는 가능하다."
   ]
  },
  {
   "cell_type": "code",
   "execution_count": 1,
   "id": "56d383d2",
   "metadata": {},
   "outputs": [],
   "source": [
    "t = (1,2,'a','b')"
   ]
  },
  {
   "cell_type": "code",
   "execution_count": 2,
   "id": "fcf19e04",
   "metadata": {},
   "outputs": [
    {
     "ename": "TypeError",
     "evalue": "'tuple' object doesn't support item deletion",
     "output_type": "error",
     "traceback": [
      "\u001b[1;31m---------------------------------------------------------------------------\u001b[0m",
      "\u001b[1;31mTypeError\u001b[0m                                 Traceback (most recent call last)",
      "\u001b[1;32m~\\AppData\\Local\\Temp/ipykernel_16980/2241199248.py\u001b[0m in \u001b[0;36m<module>\u001b[1;34m\u001b[0m\n\u001b[1;32m----> 1\u001b[1;33m \u001b[1;32mdel\u001b[0m \u001b[0mt\u001b[0m\u001b[1;33m[\u001b[0m\u001b[1;36m0\u001b[0m\u001b[1;33m]\u001b[0m\u001b[1;33m\u001b[0m\u001b[1;33m\u001b[0m\u001b[0m\n\u001b[0m",
      "\u001b[1;31mTypeError\u001b[0m: 'tuple' object doesn't support item deletion"
     ]
    }
   ],
   "source": [
    "del t[0]"
   ]
  },
  {
   "cell_type": "code",
   "execution_count": 3,
   "id": "2430aeca",
   "metadata": {},
   "outputs": [
    {
     "ename": "TypeError",
     "evalue": "'tuple' object does not support item assignment",
     "output_type": "error",
     "traceback": [
      "\u001b[1;31m---------------------------------------------------------------------------\u001b[0m",
      "\u001b[1;31mTypeError\u001b[0m                                 Traceback (most recent call last)",
      "\u001b[1;32m~\\AppData\\Local\\Temp/ipykernel_16980/191694041.py\u001b[0m in \u001b[0;36m<module>\u001b[1;34m\u001b[0m\n\u001b[1;32m----> 1\u001b[1;33m \u001b[0mt\u001b[0m\u001b[1;33m[\u001b[0m\u001b[1;36m0\u001b[0m\u001b[1;33m]\u001b[0m \u001b[1;33m=\u001b[0m \u001b[1;36m0\u001b[0m\u001b[1;33m\u001b[0m\u001b[1;33m\u001b[0m\u001b[0m\n\u001b[0m",
      "\u001b[1;31mTypeError\u001b[0m: 'tuple' object does not support item assignment"
     ]
    }
   ],
   "source": [
    "t[0] = 0"
   ]
  },
  {
   "cell_type": "code",
   "execution_count": 10,
   "id": "96a887c4",
   "metadata": {},
   "outputs": [
    {
     "ename": "AttributeError",
     "evalue": "'tuple' object has no attribute 'sort'",
     "output_type": "error",
     "traceback": [
      "\u001b[1;31m---------------------------------------------------------------------------\u001b[0m",
      "\u001b[1;31mAttributeError\u001b[0m                            Traceback (most recent call last)",
      "\u001b[1;32m~\\AppData\\Local\\Temp/ipykernel_16980/1790256170.py\u001b[0m in \u001b[0;36m<module>\u001b[1;34m\u001b[0m\n\u001b[1;32m----> 1\u001b[1;33m \u001b[0mt2\u001b[0m\u001b[1;33m.\u001b[0m\u001b[0msort\u001b[0m\u001b[1;33m(\u001b[0m\u001b[1;33m)\u001b[0m\u001b[1;33m\u001b[0m\u001b[1;33m\u001b[0m\u001b[0m\n\u001b[0m",
      "\u001b[1;31mAttributeError\u001b[0m: 'tuple' object has no attribute 'sort'"
     ]
    }
   ],
   "source": [
    "t2.sort()"
   ]
  },
  {
   "cell_type": "code",
   "execution_count": 4,
   "id": "61b3968e",
   "metadata": {},
   "outputs": [],
   "source": [
    "t2 = (3,4)"
   ]
  },
  {
   "cell_type": "code",
   "execution_count": 5,
   "id": "79510bae",
   "metadata": {},
   "outputs": [
    {
     "data": {
      "text/plain": [
       "(1, 2, 'a', 'b', 3, 4)"
      ]
     },
     "execution_count": 5,
     "metadata": {},
     "output_type": "execute_result"
    }
   ],
   "source": [
    "t + t2"
   ]
  },
  {
   "cell_type": "code",
   "execution_count": 6,
   "id": "8fcf8925",
   "metadata": {},
   "outputs": [
    {
     "data": {
      "text/plain": [
       "(3, 4, 3, 4, 3, 4)"
      ]
     },
     "execution_count": 6,
     "metadata": {},
     "output_type": "execute_result"
    }
   ],
   "source": [
    "t2 * 3"
   ]
  },
  {
   "cell_type": "code",
   "execution_count": 8,
   "id": "d1b3dd35",
   "metadata": {},
   "outputs": [
    {
     "data": {
      "text/plain": [
       "4"
      ]
     },
     "execution_count": 8,
     "metadata": {},
     "output_type": "execute_result"
    }
   ],
   "source": [
    "len(t)"
   ]
  },
  {
   "cell_type": "markdown",
   "id": "9d902246",
   "metadata": {},
   "source": [
    "### 딕셔너리"
   ]
  },
  {
   "cell_type": "code",
   "execution_count": 2,
   "id": "330845e0",
   "metadata": {},
   "outputs": [],
   "source": [
    "dic = {'name':'pey', 'phone':'0119993323', 'birth':'1118'}"
   ]
  },
  {
   "cell_type": "code",
   "execution_count": 3,
   "id": "3ba7e06c",
   "metadata": {},
   "outputs": [
    {
     "data": {
      "text/plain": [
       "True"
      ]
     },
     "execution_count": 3,
     "metadata": {},
     "output_type": "execute_result"
    }
   ],
   "source": [
    "# key 조회\n",
    "'name' in dic"
   ]
  },
  {
   "cell_type": "code",
   "execution_count": 4,
   "id": "eeb4e170",
   "metadata": {},
   "outputs": [],
   "source": [
    "# 추가\n",
    "dic['loc'] = 'gimpo'"
   ]
  },
  {
   "cell_type": "code",
   "execution_count": 5,
   "id": "d100b193",
   "metadata": {},
   "outputs": [
    {
     "data": {
      "text/plain": [
       "{'name': 'pey', 'phone': '0119993323', 'birth': '1118', 'loc': 'gimpo'}"
      ]
     },
     "execution_count": 5,
     "metadata": {},
     "output_type": "execute_result"
    }
   ],
   "source": [
    "dic"
   ]
  },
  {
   "cell_type": "code",
   "execution_count": 6,
   "id": "4b8c9ea2",
   "metadata": {},
   "outputs": [],
   "source": [
    "# 삭제\n",
    "del dic['loc']"
   ]
  },
  {
   "cell_type": "code",
   "execution_count": 7,
   "id": "afb53035",
   "metadata": {},
   "outputs": [
    {
     "data": {
      "text/plain": [
       "{'name': 'pey', 'phone': '0119993323', 'birth': '1118'}"
      ]
     },
     "execution_count": 7,
     "metadata": {},
     "output_type": "execute_result"
    }
   ],
   "source": [
    "dic"
   ]
  },
  {
   "cell_type": "code",
   "execution_count": 8,
   "id": "748d17ef",
   "metadata": {},
   "outputs": [],
   "source": [
    "# key, value 모두 삭제\n",
    "dic.clear()"
   ]
  },
  {
   "cell_type": "code",
   "execution_count": 9,
   "id": "f1fe2caa",
   "metadata": {},
   "outputs": [
    {
     "data": {
      "text/plain": [
       "{}"
      ]
     },
     "execution_count": 9,
     "metadata": {},
     "output_type": "execute_result"
    }
   ],
   "source": [
    "dic"
   ]
  },
  {
   "cell_type": "code",
   "execution_count": 10,
   "id": "da0a1a86",
   "metadata": {},
   "outputs": [],
   "source": [
    "# key에 한정해서 중복이 불가능\n",
    "dic2 = {1:'apple', 1:'banana'}"
   ]
  },
  {
   "cell_type": "code",
   "execution_count": 11,
   "id": "1ea67b2c",
   "metadata": {},
   "outputs": [
    {
     "data": {
      "text/plain": [
       "{1: 'banana'}"
      ]
     },
     "execution_count": 11,
     "metadata": {},
     "output_type": "execute_result"
    }
   ],
   "source": [
    "# 나중에 추가된 요소만 인정함.\n",
    "dic2"
   ]
  },
  {
   "cell_type": "markdown",
   "id": "952fbc61",
   "metadata": {},
   "source": [
    "### 딕셔너리 관련 함수"
   ]
  },
  {
   "cell_type": "code",
   "execution_count": 26,
   "id": "5ad5a420",
   "metadata": {},
   "outputs": [],
   "source": [
    "dic = {'name':'pey', 'phone':'0119993323', 'birth':'1118'}"
   ]
  },
  {
   "cell_type": "code",
   "execution_count": 27,
   "id": "86e7a0b0",
   "metadata": {},
   "outputs": [
    {
     "data": {
      "text/plain": [
       "dict_keys(['name', 'phone', 'birth'])"
      ]
     },
     "execution_count": 27,
     "metadata": {},
     "output_type": "execute_result"
    }
   ],
   "source": [
    "dic.keys()"
   ]
  },
  {
   "cell_type": "code",
   "execution_count": 28,
   "id": "9f2ea50d",
   "metadata": {},
   "outputs": [
    {
     "data": {
      "text/plain": [
       "dict_values(['pey', '0119993323', '1118'])"
      ]
     },
     "execution_count": 28,
     "metadata": {},
     "output_type": "execute_result"
    }
   ],
   "source": [
    "dic.values()"
   ]
  },
  {
   "cell_type": "code",
   "execution_count": 29,
   "id": "ad5d6458",
   "metadata": {},
   "outputs": [
    {
     "data": {
      "text/plain": [
       "dict_items([('name', 'pey'), ('phone', '0119993323'), ('birth', '1118')])"
      ]
     },
     "execution_count": 29,
     "metadata": {},
     "output_type": "execute_result"
    }
   ],
   "source": [
    "dic.items()"
   ]
  },
  {
   "attachments": {
    "image.png": {
     "image/png": "[encoded data removed]"
    }
   },
   "cell_type": "markdown",
   "id": "664833d4",
   "metadata": {},
   "source": [
    "![image.png](attachment:image.png)"
   ]
  },
  {
   "cell_type": "markdown",
   "id": "e9ba1145",
   "metadata": {},
   "source": [
    "### 이터레이터(Iterator)와 제너레이터(Generator)"
   ]
  },
  {
   "cell_type": "code",
   "execution_count": 14,
   "id": "ce649891",
   "metadata": {},
   "outputs": [],
   "source": [
    "s = 'abcdefghij'"
   ]
  },
  {
   "cell_type": "code",
   "execution_count": 15,
   "id": "71c4d4a2",
   "metadata": {},
   "outputs": [],
   "source": [
    "# 이터레이터\n",
    "it = iter(s)"
   ]
  },
  {
   "cell_type": "code",
   "execution_count": 16,
   "id": "5df84045",
   "metadata": {},
   "outputs": [
    {
     "data": {
      "text/plain": [
       "'a'"
      ]
     },
     "execution_count": 16,
     "metadata": {},
     "output_type": "execute_result"
    }
   ],
   "source": [
    "next(it)"
   ]
  },
  {
   "cell_type": "code",
   "execution_count": 17,
   "id": "e780c650",
   "metadata": {},
   "outputs": [
    {
     "data": {
      "text/plain": [
       "'b'"
      ]
     },
     "execution_count": 17,
     "metadata": {},
     "output_type": "execute_result"
    }
   ],
   "source": [
    "next(it)"
   ]
  },
  {
   "cell_type": "code",
   "execution_count": 19,
   "id": "054b9b1b",
   "metadata": {},
   "outputs": [],
   "source": [
    "# 제너레이터 : iterable한 함수를 만들어 주는 문법\n",
    "def gener():\n",
    "    yield 1\n",
    "    yield 2\n",
    "    yield 3\n",
    "\n",
    "gen = gener()"
   ]
  },
  {
   "cell_type": "code",
   "execution_count": 20,
   "id": "7b8ecac7",
   "metadata": {},
   "outputs": [
    {
     "data": {
      "text/plain": [
       "1"
      ]
     },
     "execution_count": 20,
     "metadata": {},
     "output_type": "execute_result"
    }
   ],
   "source": [
    "next(gen)"
   ]
  },
  {
   "cell_type": "code",
   "execution_count": 21,
   "id": "fb460ec6",
   "metadata": {},
   "outputs": [
    {
     "data": {
      "text/plain": [
       "2"
      ]
     },
     "execution_count": 21,
     "metadata": {},
     "output_type": "execute_result"
    }
   ],
   "source": [
    "next(gen)"
   ]
  },
  {
   "cell_type": "code",
   "execution_count": 22,
   "id": "b1f9e449",
   "metadata": {},
   "outputs": [
    {
     "data": {
      "text/plain": [
       "3"
      ]
     },
     "execution_count": 22,
     "metadata": {},
     "output_type": "execute_result"
    }
   ],
   "source": [
    "next(gen)"
   ]
  },
  {
   "cell_type": "code",
   "execution_count": 23,
   "id": "6f53a44c",
   "metadata": {},
   "outputs": [
    {
     "ename": "StopIteration",
     "evalue": "",
     "output_type": "error",
     "traceback": [
      "\u001b[1;31m---------------------------------------------------------------------------\u001b[0m",
      "\u001b[1;31mStopIteration\u001b[0m                             Traceback (most recent call last)",
      "\u001b[1;32m~\\AppData\\Local\\Temp/ipykernel_25092/4293081279.py\u001b[0m in \u001b[0;36m<module>\u001b[1;34m\u001b[0m\n\u001b[1;32m----> 1\u001b[1;33m \u001b[0mnext\u001b[0m\u001b[1;33m(\u001b[0m\u001b[0mgen\u001b[0m\u001b[1;33m)\u001b[0m\u001b[1;33m\u001b[0m\u001b[1;33m\u001b[0m\u001b[0m\n\u001b[0m",
      "\u001b[1;31mStopIteration\u001b[0m: "
     ]
    }
   ],
   "source": [
    "next(gen)"
   ]
  },
  {
   "cell_type": "code",
   "execution_count": 25,
   "id": "6d9add79",
   "metadata": {},
   "outputs": [
    {
     "data": {
      "text/plain": [
       "True"
      ]
     },
     "execution_count": 25,
     "metadata": {},
     "output_type": "execute_result"
    }
   ],
   "source": [
    "import collections\n",
    "# 제너레이터로 만들어진 객체는 iterable하다.\n",
    "isinstance(gen, collections.Iterable)"
   ]
  },
  {
   "cell_type": "markdown",
   "id": "b62f497c",
   "metadata": {},
   "source": [
    "### 집합 자료형\n",
    "> 중복을 허용하지 않음.<br>\n",
    "> 순서가 없음."
   ]
  },
  {
   "cell_type": "code",
   "execution_count": 27,
   "id": "e2d16ff9",
   "metadata": {},
   "outputs": [
    {
     "name": "stdout",
     "output_type": "stream",
     "text": [
      "{1, 2, 3, 4, 5}\n",
      "{'o', 'h', 'e', 'l'}\n",
      "{1, 2, 3, 4, 5}\n"
     ]
    }
   ],
   "source": [
    "# 집합 자료형 생성.\n",
    "s1 = set([1,2,3,3,4,5,5])\n",
    "s2 = set('hello')\n",
    "s3 = {1,2,3,3,4,5,5}\n",
    "\n",
    "print(s1)\n",
    "print(s2)\n",
    "print(s3)"
   ]
  },
  {
   "cell_type": "code",
   "execution_count": 28,
   "id": "1a3d3468",
   "metadata": {},
   "outputs": [
    {
     "ename": "TypeError",
     "evalue": "'set' object is not subscriptable",
     "output_type": "error",
     "traceback": [
      "\u001b[1;31m---------------------------------------------------------------------------\u001b[0m",
      "\u001b[1;31mTypeError\u001b[0m                                 Traceback (most recent call last)",
      "\u001b[1;32m~\\AppData\\Local\\Temp/ipykernel_25092/643609873.py\u001b[0m in \u001b[0;36m<module>\u001b[1;34m\u001b[0m\n\u001b[1;32m----> 1\u001b[1;33m \u001b[0ms1\u001b[0m\u001b[1;33m[\u001b[0m\u001b[1;36m0\u001b[0m\u001b[1;33m]\u001b[0m\u001b[1;33m\u001b[0m\u001b[1;33m\u001b[0m\u001b[0m\n\u001b[0m",
      "\u001b[1;31mTypeError\u001b[0m: 'set' object is not subscriptable"
     ]
    }
   ],
   "source": [
    "# set은 인덱싱으로 접근할 수 없다.\n",
    "s1[0]"
   ]
  },
  {
   "cell_type": "code",
   "execution_count": 35,
   "id": "56212555",
   "metadata": {},
   "outputs": [],
   "source": [
    "# 추가\n",
    "s1.add(10)"
   ]
  },
  {
   "cell_type": "code",
   "execution_count": 36,
   "id": "61d54684",
   "metadata": {},
   "outputs": [
    {
     "data": {
      "text/plain": [
       "{1, 2, 3, 4, 5, 6, 10}"
      ]
     },
     "execution_count": 36,
     "metadata": {},
     "output_type": "execute_result"
    }
   ],
   "source": [
    "s1"
   ]
  },
  {
   "cell_type": "code",
   "execution_count": 37,
   "id": "0a2ea2ca",
   "metadata": {},
   "outputs": [],
   "source": [
    "s1.update(s2)"
   ]
  },
  {
   "cell_type": "code",
   "execution_count": 38,
   "id": "21458cd1",
   "metadata": {},
   "outputs": [
    {
     "data": {
      "text/plain": [
       "{1, 2, 3, 4, 5, 6, 7, 8, 9, 10}"
      ]
     },
     "execution_count": 38,
     "metadata": {},
     "output_type": "execute_result"
    }
   ],
   "source": [
    "s1"
   ]
  },
  {
   "cell_type": "code",
   "execution_count": 39,
   "id": "0f720e04",
   "metadata": {},
   "outputs": [],
   "source": [
    "# 값 제거하기 \n",
    "s1.remove(7)"
   ]
  },
  {
   "cell_type": "code",
   "execution_count": 40,
   "id": "7590ea13",
   "metadata": {},
   "outputs": [
    {
     "data": {
      "text/plain": [
       "{1, 2, 3, 4, 5, 6, 8, 9, 10}"
      ]
     },
     "execution_count": 40,
     "metadata": {},
     "output_type": "execute_result"
    }
   ],
   "source": [
    "s1"
   ]
  },
  {
   "cell_type": "markdown",
   "id": "58701468",
   "metadata": {},
   "source": [
    "### 교집합, 합집합, 차집합 구하기"
   ]
  },
  {
   "cell_type": "code",
   "execution_count": 29,
   "id": "c554e660",
   "metadata": {},
   "outputs": [],
   "source": [
    "s1 = {1,2,3,4,5,6}\n",
    "s2 = {4,5,6,7,8,9}"
   ]
  },
  {
   "cell_type": "code",
   "execution_count": 32,
   "id": "5a5ff467",
   "metadata": {},
   "outputs": [
    {
     "data": {
      "text/plain": [
       "{4, 5, 6}"
      ]
     },
     "execution_count": 32,
     "metadata": {},
     "output_type": "execute_result"
    }
   ],
   "source": [
    "# 교집합\n",
    "\n",
    "s1 & s2\n",
    "s1.intersection(s2)"
   ]
  },
  {
   "cell_type": "code",
   "execution_count": 33,
   "id": "0474e37e",
   "metadata": {},
   "outputs": [
    {
     "data": {
      "text/plain": [
       "{1, 2, 3, 4, 5, 6, 7, 8, 9}"
      ]
     },
     "execution_count": 33,
     "metadata": {},
     "output_type": "execute_result"
    }
   ],
   "source": [
    "# 합집합\n",
    "\n",
    "s1 | s2\n",
    "s1.union(s2)"
   ]
  },
  {
   "cell_type": "code",
   "execution_count": 34,
   "id": "dad6519a",
   "metadata": {},
   "outputs": [
    {
     "data": {
      "text/plain": [
       "{1, 2, 3}"
      ]
     },
     "execution_count": 34,
     "metadata": {},
     "output_type": "execute_result"
    }
   ],
   "source": [
    "s1 - s2\n",
    "s1.difference(s2)"
   ]
  },
  {
   "attachments": {
    "image.png": {
     "image/png": "[encoded data removed]"
    }
   },
   "cell_type": "markdown",
   "id": "ea7b5dec",
   "metadata": {},
   "source": [
    "![image.png](attachment:image.png)"
   ]
  },
  {
   "cell_type": "code",
   "execution_count": 42,
   "id": "68d250e5",
   "metadata": {},
   "outputs": [
    {
     "name": "stdout",
     "output_type": "stream",
     "text": [
      "4\n",
      "3\n",
      "2\n",
      "1\n"
     ]
    }
   ],
   "source": [
    "a = [1,2,3,4]\n",
    "# 비어있으면 거짓, 채워져 있으면 참을 이용한 반복문\n",
    "while a:\n",
    "    print(a.pop())"
   ]
  },
  {
   "cell_type": "markdown",
   "id": "19744d55",
   "metadata": {},
   "source": [
    "# 깊은 복사"
   ]
  },
  {
   "cell_type": "markdown",
   "id": "913d7bbb",
   "metadata": {},
   "source": [
    "### 깊은 복사"
   ]
  },
  {
   "cell_type": "code",
   "execution_count": 46,
   "id": "0de4ca10",
   "metadata": {},
   "outputs": [],
   "source": [
    "# is 함수는 객체의 내용을 비교하여 참,거짓을 내놓는 것이 아닌 객체의 메모리 주소를 사용하여 연산을 한다.\n",
    "a = [1,2,3]\n",
    "b = [1,2,3]\n",
    "c = a"
   ]
  },
  {
   "cell_type": "code",
   "execution_count": 47,
   "id": "617bd6fe",
   "metadata": {},
   "outputs": [
    {
     "name": "stdout",
     "output_type": "stream",
     "text": [
      "False\n",
      "True\n"
     ]
    }
   ],
   "source": [
    "print(a is b)\n",
    "print(a is c)"
   ]
  },
  {
   "cell_type": "code",
   "execution_count": 48,
   "id": "fda01570",
   "metadata": {},
   "outputs": [],
   "source": [
    "# 리스트의 깊은 복사법 첫번째 : [:]\n",
    "d = a[:]"
   ]
  },
  {
   "cell_type": "code",
   "execution_count": 49,
   "id": "ba4fa094",
   "metadata": {},
   "outputs": [
    {
     "name": "stdout",
     "output_type": "stream",
     "text": [
      "[1, 2, 3]\n",
      "False\n"
     ]
    }
   ],
   "source": [
    "print(d)\n",
    "print(a is d)"
   ]
  },
  {
   "cell_type": "code",
   "execution_count": 51,
   "id": "cabed993",
   "metadata": {},
   "outputs": [],
   "source": [
    "# 리스트의 깊은 복사법 두번째 : copy 모듈\n",
    "from copy import copy\n",
    "e = copy(a)"
   ]
  },
  {
   "cell_type": "code",
   "execution_count": 53,
   "id": "d2a9cf47",
   "metadata": {},
   "outputs": [
    {
     "name": "stdout",
     "output_type": "stream",
     "text": [
      "[1, 2, 3]\n",
      "False\n"
     ]
    }
   ],
   "source": [
    "print(e)\n",
    "print(a is e)"
   ]
  },
  {
   "cell_type": "code",
   "execution_count": 54,
   "id": "90f6fbef",
   "metadata": {},
   "outputs": [],
   "source": [
    "# 리스트의 깊은 복사법 세번째 : copy 함수\n",
    "f = a.copy()"
   ]
  },
  {
   "cell_type": "code",
   "execution_count": 55,
   "id": "1c712b02",
   "metadata": {},
   "outputs": [
    {
     "name": "stdout",
     "output_type": "stream",
     "text": [
      "[1, 2, 3]\n",
      "False\n"
     ]
    }
   ],
   "source": [
    "print(f)\n",
    "print(a is f)"
   ]
  },
  {
   "cell_type": "markdown",
   "id": "35081224",
   "metadata": {},
   "source": [
    "# 반복문"
   ]
  },
  {
   "cell_type": "code",
   "execution_count": 4,
   "id": "7cc5154d",
   "metadata": {},
   "outputs": [
    {
     "name": "stdout",
     "output_type": "stream",
     "text": [
      "False\n",
      "True\n",
      "False\n",
      "\n",
      "False\n",
      "False\n",
      "True\n",
      "True\n",
      "False\n",
      "True\n",
      "\n",
      "True\n",
      "True\n",
      "True\n",
      "False\n",
      "False\n",
      "False\n"
     ]
    }
   ],
   "source": [
    "a, b = True, False\n",
    "\n",
    "print(a and b)\n",
    "print(a or b)\n",
    "print(not a)\n",
    "\n",
    "print()\n",
    "print(1 > 2)\n",
    "print(1 >= 2)\n",
    "print(1 < 2)\n",
    "print(1 <= 2)\n",
    "print(1 == 2)\n",
    "print(1 != 2)\n",
    "\n",
    "print()\n",
    "print(1 in [1,2,3,4])\n",
    "print(1 in (1,2,3,4))\n",
    "print('s' in 'spring')\n",
    "print(1 not in [1,2,3,4])\n",
    "print(1 not in (1,2,3,4))\n",
    "print('s' not in 'spring')"
   ]
  },
  {
   "cell_type": "markdown",
   "id": "24a82609",
   "metadata": {},
   "source": [
    "#### if"
   ]
  },
  {
   "cell_type": "code",
   "execution_count": 1,
   "id": "222deab0",
   "metadata": {},
   "outputs": [
    {
     "name": "stdout",
     "output_type": "stream",
     "text": [
      "True\n"
     ]
    }
   ],
   "source": [
    "if True:\n",
    "    print(\"True\")\n",
    "elif True:\n",
    "    print(\"elif\")\n",
    "else:\n",
    "    print(\"else\")"
   ]
  },
  {
   "cell_type": "markdown",
   "id": "1d4ed6af",
   "metadata": {},
   "source": [
    "#### while"
   ]
  },
  {
   "cell_type": "code",
   "execution_count": 6,
   "id": "4f720466",
   "metadata": {},
   "outputs": [
    {
     "name": "stdout",
     "output_type": "stream",
     "text": [
      "반복문\n"
     ]
    }
   ],
   "source": [
    "while True:\n",
    "    print(\"반복문\")\n",
    "    if True:\n",
    "        break\n",
    "    if True:\n",
    "        continue"
   ]
  },
  {
   "cell_type": "markdown",
   "id": "b5cd8b5d",
   "metadata": {},
   "source": [
    "#### for"
   ]
  },
  {
   "cell_type": "code",
   "execution_count": 7,
   "id": "9803f2ce",
   "metadata": {},
   "outputs": [
    {
     "name": "stdout",
     "output_type": "stream",
     "text": [
      "1\n",
      "2\n",
      "3\n",
      "4\n"
     ]
    }
   ],
   "source": [
    "for i in [1,2,3,4]:\n",
    "    print(i)"
   ]
  },
  {
   "attachments": {
    "image.png": {
     "image/png": "[encoded data removed]"
    }
   },
   "cell_type": "markdown",
   "id": "49054286",
   "metadata": {},
   "source": [
    "![image.png](attachment:image.png)"
   ]
  },
  {
   "cell_type": "markdown",
   "id": "64851d59",
   "metadata": {},
   "source": [
    "위의 파라미터는 위의 순서를 지켜야 하며 여러개의 파라미터와 dictory를 받을 수 있다는 소리이다."
   ]
  },
  {
   "attachments": {
    "image.png": {
     "image/png": "[encoded data removed]"
    }
   },
   "cell_type": "markdown",
   "id": "96c0feda",
   "metadata": {},
   "source": [
    "![image.png](attachment:image.png)"
   ]
  },
  {
   "cell_type": "code",
   "execution_count": 5,
   "id": "3b0f7992",
   "metadata": {},
   "outputs": [],
   "source": [
    "with open(\"src/testtxt.txt\", \"w\") as f:\n",
    "    f.write(\"This is a Test for IO system.\")"
   ]
  },
  {
   "cell_type": "code",
   "execution_count": 8,
   "id": "b4f16822",
   "metadata": {},
   "outputs": [
    {
     "name": "stdout",
     "output_type": "stream",
     "text": [
      "위 예는 f.open(\"새파일.txt\", 'r')로 파일을 \n",
      "읽기 모드로 연 후 readline()을 사용해서 \n",
      "파일의 첫 번째 줄을 읽어 출력하는 경우이다. \n",
      "앞에서 만든 새파일.txt를 수정하거나 \n",
      "지우지 않았다면 위 프로그램을 실행했을 때 \n",
      "새파일.txt의 가장 첫 번째 줄이 화면에 출력될 것이다.\n"
     ]
    }
   ],
   "source": [
    "with open(\"src/testread.txt\", \"r\", encoding=\"utf-8\") as f:\n",
    "    txt = f.read()\n",
    "    print(txt)"
   ]
  },
  {
   "cell_type": "code",
   "execution_count": 9,
   "id": "732e8340",
   "metadata": {},
   "outputs": [
    {
     "name": "stdout",
     "output_type": "stream",
     "text": [
      "위 예는 f.open(\"새파일.txt\", 'r')로 파일을 \n",
      " 1st\n",
      "읽기 모드로 연 후 readline()을 사용해서 \n",
      " 2nd\n"
     ]
    }
   ],
   "source": [
    "with open(\"src/testread.txt\", \"r\", encoding=\"utf-8\") as f:\n",
    "    txt = f.readline()\n",
    "    print(txt, \"1st\")\n",
    "    txt = f.readline()\n",
    "    print(txt, \"2nd\")"
   ]
  },
  {
   "cell_type": "code",
   "execution_count": 10,
   "id": "bac3e9cd",
   "metadata": {},
   "outputs": [
    {
     "name": "stdout",
     "output_type": "stream",
     "text": [
      "위 예는 f.open(\"새파일.txt\", 'r')로 파일을 \n",
      " 1st\n",
      "파일의 첫 번째 줄을 읽어 출력하는 경우이다. \n",
      " 3rd\n"
     ]
    }
   ],
   "source": [
    "with open(\"src/testread.txt\", \"r\", encoding=\"utf-8\") as f:\n",
    "    txt = f.readlines()\n",
    "    print(txt[0], \"1st\")\n",
    "    print(txt[2], \"3rd\")"
   ]
  },
  {
   "cell_type": "code",
   "execution_count": 11,
   "id": "17455211",
   "metadata": {},
   "outputs": [],
   "source": [
    "class test:\n",
    "    # 클래스 변수\n",
    "    constant = 5\n",
    "    \n",
    "    def __init__(self, first : int = 1, second : int = 2):\n",
    "        self.first = first\n",
    "        self._second = second\n",
    "        \n",
    "    def getSecond(self):\n",
    "        return self._second\n",
    "    \n",
    "    def setSecond(self, second):\n",
    "        if second >= 0:\n",
    "            self._second = second"
   ]
  },
  {
   "cell_type": "code",
   "execution_count": 12,
   "id": "481d9bfb",
   "metadata": {},
   "outputs": [],
   "source": [
    "class child(test):\n",
    "    \n",
    "    def __init__(self, first : int = 1, second : int = 2):\n",
    "        super().__init__(first, second)"
   ]
  },
  {
   "cell_type": "markdown",
   "id": "797ba00c",
   "metadata": {},
   "source": [
    "# 모듈"
   ]
  },
  {
   "cell_type": "markdown",
   "id": "262c737e",
   "metadata": {},
   "source": [
    "#### 모듈 다른 디렉토리에서 불러오기"
   ]
  },
  {
   "attachments": {
    "image.png": {
     "image/png": "[encoded data removed]"
    }
   },
   "cell_type": "markdown",
   "id": "8e804ef3",
   "metadata": {},
   "source": [
    "![image.png](attachment:image.png)"
   ]
  },
  {
   "attachments": {
    "image.png": {
     "image/png": "[encoded data removed]"
    }
   },
   "cell_type": "markdown",
   "id": "3afc4453",
   "metadata": {},
   "source": [
    "![image.png](attachment:image.png)"
   ]
  },
  {
   "cell_type": "markdown",
   "id": "aa5ee3f1",
   "metadata": {},
   "source": [
    "# 패키지"
   ]
  },
  {
   "cell_type": "code",
   "execution_count": 1,
   "id": "1747eb2d",
   "metadata": {},
   "outputs": [],
   "source": [
    "import sys"
   ]
  },
  {
   "cell_type": "code",
   "execution_count": 2,
   "id": "c523df7b",
   "metadata": {},
   "outputs": [
    {
     "data": {
      "text/plain": [
       "['C:\\\\Users\\\\wjdgn\\\\jupyter_notebook',\n",
       " 'E:\\\\Programs\\\\Anaconda\\\\anaconda3\\\\python39.zip',\n",
       " 'E:\\\\Programs\\\\Anaconda\\\\anaconda3\\\\DLLs',\n",
       " 'E:\\\\Programs\\\\Anaconda\\\\anaconda3\\\\lib',\n",
       " 'E:\\\\Programs\\\\Anaconda\\\\anaconda3',\n",
       " '',\n",
       " 'E:\\\\Programs\\\\Anaconda\\\\anaconda3\\\\lib\\\\site-packages',\n",
       " 'E:\\\\Programs\\\\Anaconda\\\\anaconda3\\\\lib\\\\site-packages\\\\locket-0.2.1-py3.9.egg',\n",
       " 'E:\\\\Programs\\\\Anaconda\\\\anaconda3\\\\lib\\\\site-packages\\\\win32',\n",
       " 'E:\\\\Programs\\\\Anaconda\\\\anaconda3\\\\lib\\\\site-packages\\\\win32\\\\lib',\n",
       " 'E:\\\\Programs\\\\Anaconda\\\\anaconda3\\\\lib\\\\site-packages\\\\Pythonwin',\n",
       " 'E:\\\\Programs\\\\Anaconda\\\\anaconda3\\\\lib\\\\site-packages\\\\IPython\\\\extensions',\n",
       " 'C:\\\\Users\\\\wjdgn\\\\.ipython']"
      ]
     },
     "execution_count": 2,
     "metadata": {},
     "output_type": "execute_result"
    }
   ],
   "source": [
    "sys.path"
   ]
  },
  {
   "cell_type": "code",
   "execution_count": 3,
   "id": "f7c8a9da",
   "metadata": {},
   "outputs": [],
   "source": [
    "sys.path.append(r\"C:\\Users\\wjdgn\\jupyter_notebook\")"
   ]
  },
  {
   "cell_type": "code",
   "execution_count": 4,
   "id": "39fbb502",
   "metadata": {},
   "outputs": [
    {
     "data": {
      "text/plain": [
       "['C:\\\\Users\\\\wjdgn\\\\jupyter_notebook',\n",
       " 'E:\\\\Programs\\\\Anaconda\\\\anaconda3\\\\python39.zip',\n",
       " 'E:\\\\Programs\\\\Anaconda\\\\anaconda3\\\\DLLs',\n",
       " 'E:\\\\Programs\\\\Anaconda\\\\anaconda3\\\\lib',\n",
       " 'E:\\\\Programs\\\\Anaconda\\\\anaconda3',\n",
       " '',\n",
       " 'E:\\\\Programs\\\\Anaconda\\\\anaconda3\\\\lib\\\\site-packages',\n",
       " 'E:\\\\Programs\\\\Anaconda\\\\anaconda3\\\\lib\\\\site-packages\\\\locket-0.2.1-py3.9.egg',\n",
       " 'E:\\\\Programs\\\\Anaconda\\\\anaconda3\\\\lib\\\\site-packages\\\\win32',\n",
       " 'E:\\\\Programs\\\\Anaconda\\\\anaconda3\\\\lib\\\\site-packages\\\\win32\\\\lib',\n",
       " 'E:\\\\Programs\\\\Anaconda\\\\anaconda3\\\\lib\\\\site-packages\\\\Pythonwin',\n",
       " 'E:\\\\Programs\\\\Anaconda\\\\anaconda3\\\\lib\\\\site-packages\\\\IPython\\\\extensions',\n",
       " 'C:\\\\Users\\\\wjdgn\\\\.ipython',\n",
       " 'C:\\\\Users\\\\wjdgn\\\\jupyter_notebook']"
      ]
     },
     "execution_count": 4,
     "metadata": {},
     "output_type": "execute_result"
    }
   ],
   "source": [
    "sys.path"
   ]
  },
  {
   "cell_type": "code",
   "execution_count": 6,
   "id": "165ad4bf",
   "metadata": {},
   "outputs": [
    {
     "name": "stdout",
     "output_type": "stream",
     "text": [
      "pypack\n"
     ]
    }
   ],
   "source": [
    "from pack import pypack"
   ]
  },
  {
   "cell_type": "code",
   "execution_count": 7,
   "id": "02d12d98",
   "metadata": {},
   "outputs": [
    {
     "name": "stdout",
     "output_type": "stream",
     "text": [
      "pyone\n"
     ]
    }
   ],
   "source": [
    "from pack.one import pyone"
   ]
  },
  {
   "cell_type": "code",
   "execution_count": 8,
   "id": "09520897",
   "metadata": {},
   "outputs": [
    {
     "name": "stdout",
     "output_type": "stream",
     "text": [
      "pyanother\n"
     ]
    }
   ],
   "source": [
    "from pack.another import pyanother"
   ]
  },
  {
   "cell_type": "code",
   "execution_count": 9,
   "id": "79cf60c3",
   "metadata": {},
   "outputs": [
    {
     "name": "stdout",
     "output_type": "stream",
     "text": [
      "pylast\n"
     ]
    }
   ],
   "source": [
    "from pack.last import pylast"
   ]
  },
  {
   "cell_type": "code",
   "execution_count": 5,
   "id": "fa8a91b0",
   "metadata": {},
   "outputs": [],
   "source": [
    "from pack import *"
   ]
  },
  {
   "cell_type": "markdown",
   "id": "beed885b",
   "metadata": {},
   "source": [
    "# 예외 처리"
   ]
  },
  {
   "cell_type": "code",
   "execution_count": 14,
   "id": "89ce44d7",
   "metadata": {},
   "outputs": [
    {
     "name": "stdout",
     "output_type": "stream",
     "text": [
      "division by zero\n",
      "finally\n"
     ]
    }
   ],
   "source": [
    "# try, except, fianlly 문\n",
    "try:\n",
    "    4 / 0\n",
    "    a = []\n",
    "    a[10]\n",
    "except ZeroDivisionError as e1:\n",
    "    print(e1)\n",
    "except IndexError as e2:\n",
    "    print(e2)\n",
    "finally:\n",
    "    print('finally')"
   ]
  },
  {
   "cell_type": "code",
   "execution_count": 19,
   "id": "fd5b512b",
   "metadata": {},
   "outputs": [
    {
     "name": "stdout",
     "output_type": "stream",
     "text": [
      "division by zero\n"
     ]
    }
   ],
   "source": [
    "# try, else 문\n",
    "try:\n",
    "    4 / 0\n",
    "    pass\n",
    "except ZeroDivisionError as e1:\n",
    "    print(e1)\n",
    "else:\n",
    "    print('finally')"
   ]
  },
  {
   "cell_type": "code",
   "execution_count": 20,
   "id": "fc234c22",
   "metadata": {},
   "outputs": [
    {
     "name": "stdout",
     "output_type": "stream",
     "text": [
      "finally\n"
     ]
    }
   ],
   "source": [
    "# try, else 문\n",
    "try:\n",
    "#     4 / 0\n",
    "    pass\n",
    "except ZeroDivisionError as e1:\n",
    "    print(e1)\n",
    "else:\n",
    "    print('finally')"
   ]
  },
  {
   "cell_type": "code",
   "execution_count": 21,
   "id": "f19f4119",
   "metadata": {},
   "outputs": [
    {
     "ename": "ZeroDivisionError",
     "evalue": "",
     "output_type": "error",
     "traceback": [
      "\u001b[1;31m---------------------------------------------------------------------------\u001b[0m",
      "\u001b[1;31mZeroDivisionError\u001b[0m                         Traceback (most recent call last)",
      "\u001b[1;32m~\\AppData\\Local\\Temp/ipykernel_1296/358704005.py\u001b[0m in \u001b[0;36m<module>\u001b[1;34m\u001b[0m\n\u001b[1;32m----> 1\u001b[1;33m \u001b[1;32mraise\u001b[0m \u001b[0mZeroDivisionError\u001b[0m\u001b[1;33m\u001b[0m\u001b[1;33m\u001b[0m\u001b[0m\n\u001b[0m",
      "\u001b[1;31mZeroDivisionError\u001b[0m: "
     ]
    }
   ],
   "source": [
    "# 일부러 오류 유발\n",
    "raise ZeroDivisionError"
   ]
  },
  {
   "cell_type": "code",
   "execution_count": 23,
   "id": "1a1e3182",
   "metadata": {},
   "outputs": [
    {
     "ename": "MyError",
     "evalue": "",
     "output_type": "error",
     "traceback": [
      "\u001b[1;31m---------------------------------------------------------------------------\u001b[0m",
      "\u001b[1;31mMyError\u001b[0m                                   Traceback (most recent call last)",
      "\u001b[1;32m~\\AppData\\Local\\Temp/ipykernel_1296/1836876777.py\u001b[0m in \u001b[0;36m<module>\u001b[1;34m\u001b[0m\n\u001b[0;32m      3\u001b[0m     \u001b[1;32mpass\u001b[0m\u001b[1;33m\u001b[0m\u001b[1;33m\u001b[0m\u001b[0m\n\u001b[0;32m      4\u001b[0m \u001b[1;33m\u001b[0m\u001b[0m\n\u001b[1;32m----> 5\u001b[1;33m \u001b[1;32mraise\u001b[0m \u001b[0mMyError\u001b[0m\u001b[1;33m\u001b[0m\u001b[1;33m\u001b[0m\u001b[0m\n\u001b[0m",
      "\u001b[1;31mMyError\u001b[0m: "
     ]
    }
   ],
   "source": [
    "# 예외 클래스 만들기\n",
    "class MyError(Exception):\n",
    "    pass\n",
    "\n",
    "raise MyError"
   ]
  },
  {
   "cell_type": "markdown",
   "id": "5628cf0b",
   "metadata": {},
   "source": [
    "# 내장 함수"
   ]
  },
  {
   "cell_type": "code",
   "execution_count": 25,
   "id": "c9c2be59",
   "metadata": {},
   "outputs": [
    {
     "name": "stdout",
     "output_type": "stream",
     "text": [
      "hi bye~\n",
      "3\n"
     ]
    }
   ],
   "source": [
    "# eval: 문자열을 입력 받아 계산을 한 결과를 보여줌.(숫자 계산이든지 코드이든지)\n",
    "print(\n",
    "eval(\"'hi ' + 'bye~'\")\n",
    ")\n",
    "print(\n",
    "eval(\"1 + 2\")\n",
    ")"
   ]
  },
  {
   "cell_type": "code",
   "execution_count": 26,
   "id": "0daab245",
   "metadata": {},
   "outputs": [
    {
     "data": {
      "text/plain": [
       "[1, 2, 6]"
      ]
     },
     "execution_count": 26,
     "metadata": {},
     "output_type": "execute_result"
    }
   ],
   "source": [
    "# filter : 주어진 함수를 이용해서 결과가 'True'인 것을 골라 출력한다.\n",
    "\n",
    "list(\n",
    "filter(lambda x : x > 0, [1, -3, 2, 0, -5, 6])\n",
    ")"
   ]
  },
  {
   "cell_type": "code",
   "execution_count": 30,
   "id": "13040d96",
   "metadata": {},
   "outputs": [
    {
     "data": {
      "text/plain": [
       "[1, 4, 9, 16, 25]"
      ]
     },
     "execution_count": 30,
     "metadata": {},
     "output_type": "execute_result"
    }
   ],
   "source": [
    "# map : 주어진 함수를 이용해서 결과를 매핑해서 출력한다.\n",
    "\n",
    "list(\n",
    "map(lambda x : x**2, [1,2,3,4,5])\n",
    ")"
   ]
  },
  {
   "cell_type": "code",
   "execution_count": 28,
   "id": "39e48100",
   "metadata": {},
   "outputs": [
    {
     "data": {
      "text/plain": [
       "314"
      ]
     },
     "execution_count": 28,
     "metadata": {},
     "output_type": "execute_result"
    }
   ],
   "source": [
    "# int : 주어진 문자열을 integer로 변환시킨다.\n",
    "\n",
    "int('314')"
   ]
  },
  {
   "cell_type": "code",
   "execution_count": 29,
   "id": "33a1d10e",
   "metadata": {},
   "outputs": [
    {
     "data": {
      "text/plain": [
       "True"
      ]
     },
     "execution_count": 29,
     "metadata": {},
     "output_type": "execute_result"
    }
   ],
   "source": [
    "# isinstance : 해당 변수가 해당 클래스의 인스턴스인지 확인\n",
    "\n",
    "class person():pass\n",
    "nick = person()\n",
    "\n",
    "isinstance(nick, person)"
   ]
  },
  {
   "cell_type": "code",
   "execution_count": 32,
   "id": "54d4d5bb",
   "metadata": {},
   "outputs": [
    {
     "data": {
      "text/plain": [
       "[1, 3, 5, 7, 9]"
      ]
     },
     "execution_count": 32,
     "metadata": {},
     "output_type": "execute_result"
    }
   ],
   "source": [
    "# range : range([start,] stop [,step]) \n",
    "\n",
    "list(\n",
    "range(1, 10, 2)\n",
    ")"
   ]
  },
  {
   "cell_type": "markdown",
   "id": "baea2ab2",
   "metadata": {},
   "source": [
    "# 라이브러리"
   ]
  },
  {
   "cell_type": "markdown",
   "id": "ad5b0524",
   "metadata": {},
   "source": [
    "### sys\n",
    "    예시]python test.py abc pey guido"
   ]
  },
  {
   "cell_type": "code",
   "execution_count": 33,
   "id": "407bed4d",
   "metadata": {},
   "outputs": [],
   "source": [
    "import sys"
   ]
  },
  {
   "cell_type": "code",
   "execution_count": 35,
   "id": "e5681160",
   "metadata": {},
   "outputs": [
    {
     "name": "stdout",
     "output_type": "stream",
     "text": [
      "['E:\\\\Programs\\\\Anaconda\\\\anaconda3\\\\lib\\\\site-packages\\\\ipykernel_launcher.py', '-f', 'C:\\\\Users\\\\wjdgn\\\\AppData\\\\Roaming\\\\jupyter\\\\runtime\\\\kernel-b64e849b-e023-4700-bdda-cf3e20f5cc3c.json']\n"
     ]
    }
   ],
   "source": [
    "# sys.argv\n",
    "print(sys.argv)\n",
    "# 원래대로면 ['abc', 'pey', 'guido'] 이어야 한다."
   ]
  },
  {
   "cell_type": "code",
   "execution_count": 36,
   "id": "10ddf9ef",
   "metadata": {},
   "outputs": [
    {
     "name": "stdout",
     "output_type": "stream",
     "text": [
      "['C:\\\\Users\\\\wjdgn\\\\jupyter_notebook', 'E:\\\\Programs\\\\Anaconda\\\\anaconda3\\\\python39.zip', 'E:\\\\Programs\\\\Anaconda\\\\anaconda3\\\\DLLs', 'E:\\\\Programs\\\\Anaconda\\\\anaconda3\\\\lib', 'E:\\\\Programs\\\\Anaconda\\\\anaconda3', '', 'E:\\\\Programs\\\\Anaconda\\\\anaconda3\\\\lib\\\\site-packages', 'E:\\\\Programs\\\\Anaconda\\\\anaconda3\\\\lib\\\\site-packages\\\\locket-0.2.1-py3.9.egg', 'E:\\\\Programs\\\\Anaconda\\\\anaconda3\\\\lib\\\\site-packages\\\\win32', 'E:\\\\Programs\\\\Anaconda\\\\anaconda3\\\\lib\\\\site-packages\\\\win32\\\\lib', 'E:\\\\Programs\\\\Anaconda\\\\anaconda3\\\\lib\\\\site-packages\\\\Pythonwin', 'E:\\\\Programs\\\\Anaconda\\\\anaconda3\\\\lib\\\\site-packages\\\\IPython\\\\extensions', 'C:\\\\Users\\\\wjdgn\\\\.ipython', 'C:\\\\Users\\\\wjdgn\\\\jupyter_notebook']\n"
     ]
    }
   ],
   "source": [
    "# sys.path\n",
    "print(sys.path)"
   ]
  },
  {
   "cell_type": "markdown",
   "id": "e7bd1f6b",
   "metadata": {},
   "source": [
    "### pickle"
   ]
  },
  {
   "cell_type": "code",
   "execution_count": 37,
   "id": "df4f0d26",
   "metadata": {},
   "outputs": [],
   "source": [
    "import pickle"
   ]
  },
  {
   "cell_type": "code",
   "execution_count": 42,
   "id": "eb0f623f",
   "metadata": {},
   "outputs": [],
   "source": [
    "# pickle.dump\n",
    "with open(r\"src\\pickle.txt\", \"wb\") as f:\n",
    "    pickle.dump(\n",
    "    {\"key\":\"value\"}, f\n",
    "    )"
   ]
  },
  {
   "cell_type": "code",
   "execution_count": 43,
   "id": "632241cf",
   "metadata": {},
   "outputs": [
    {
     "name": "stdout",
     "output_type": "stream",
     "text": [
      "value\n"
     ]
    }
   ],
   "source": [
    "# pickle.load\n",
    "with open(r\"src\\pickle.txt\", \"rb\") as f:\n",
    "    data = pickle.load(f)\n",
    "    print(data['key'])"
   ]
  },
  {
   "cell_type": "markdown",
   "id": "d38feb69",
   "metadata": {},
   "source": [
    "# os"
   ]
  },
  {
   "cell_type": "code",
   "execution_count": 46,
   "id": "9ff6a08d",
   "metadata": {},
   "outputs": [],
   "source": [
    "import os"
   ]
  },
  {
   "cell_type": "code",
   "execution_count": 44,
   "id": "063fe46b",
   "metadata": {},
   "outputs": [],
   "source": [
    "# os.chdir : os.chdir를 사용하면 현재 디렉터리 위치를 변경할 수 있다.\n",
    "os.chdir(r\"C:\\\")"
   ]
  },
  {
   "cell_type": "code",
   "execution_count": 47,
   "id": "2bece2aa",
   "metadata": {},
   "outputs": [
    {
     "data": {
      "text/plain": [
       "'C:\\\\Users\\\\wjdgn\\\\jupyter_notebook'"
      ]
     },
     "execution_count": 47,
     "metadata": {},
     "output_type": "execute_result"
    }
   ],
   "source": [
    "# os.getcwd : 현재 자신의 디렉터리 위치를 돌려준다.\n",
    "os.getcwd()"
   ]
  },
  {
   "cell_type": "code",
   "execution_count": 48,
   "id": "4f82f6c3",
   "metadata": {},
   "outputs": [
    {
     "data": {
      "text/plain": [
       "0"
      ]
     },
     "execution_count": 48,
     "metadata": {},
     "output_type": "execute_result"
    }
   ],
   "source": [
    "# os.system : 시스템 자체의 프로그램이나 기타 명령어를 파이썬에서 호출할 수도 있다.\n",
    "os.system('dir')"
   ]
  },
  {
   "cell_type": "markdown",
   "id": "574feaf0",
   "metadata": {},
   "source": [
    "# shutil"
   ]
  },
  {
   "cell_type": "code",
   "execution_count": 49,
   "id": "db9e9944",
   "metadata": {},
   "outputs": [],
   "source": [
    "import shutil"
   ]
  },
  {
   "cell_type": "code",
   "execution_count": 50,
   "id": "0006dfdf",
   "metadata": {},
   "outputs": [
    {
     "data": {
      "text/plain": [
       "'src\\\\dst.txt'"
      ]
     },
     "execution_count": 50,
     "metadata": {},
     "output_type": "execute_result"
    }
   ],
   "source": [
    "# shutil.copy : 파일을 보사해주는 파이썬 모듈\n",
    "shutil.copy(r\"src\\pickle.txt\", r\"src\\dst.txt\")"
   ]
  },
  {
   "cell_type": "markdown",
   "id": "4a70c89e",
   "metadata": {},
   "source": [
    "# glob"
   ]
  },
  {
   "cell_type": "code",
   "execution_count": 53,
   "id": "475e4729",
   "metadata": {},
   "outputs": [],
   "source": [
    "import glob"
   ]
  },
  {
   "cell_type": "code",
   "execution_count": 54,
   "id": "7cd652ab",
   "metadata": {},
   "outputs": [
    {
     "data": {
      "text/plain": [
       "['C:\\\\\\\\Users\\\\\\\\wjdgn\\\\\\\\jupyter_notebook\\\\src\\\\dst.txt',\n",
       " 'C:\\\\\\\\Users\\\\\\\\wjdgn\\\\\\\\jupyter_notebook\\\\src\\\\pickle.txt',\n",
       " 'C:\\\\\\\\Users\\\\\\\\wjdgn\\\\\\\\jupyter_notebook\\\\src\\\\testread.txt',\n",
       " 'C:\\\\\\\\Users\\\\\\\\wjdgn\\\\\\\\jupyter_notebook\\\\src\\\\testtxt.txt']"
      ]
     },
     "execution_count": 54,
     "metadata": {},
     "output_type": "execute_result"
    }
   ],
   "source": [
    "# glob.glob : 특정 디렉터리에 있는 파일 이름 모두를 알아야 할 때 사용하는 모듈이 바로 glob이다.\n",
    "# glob 모듈은 디렉터리 안의 파일들을 읽어서 돌려준다. *, ? 등 메타 문자를 써서 원하는 파일만 읽어 들일 수도 있다.\n",
    "glob.glob(r'C:\\\\Users\\\\wjdgn\\\\jupyter_notebook\\src\\*')"
   ]
  },
  {
   "cell_type": "markdown",
   "id": "7d19cc87",
   "metadata": {},
   "source": [
    "# tempfile"
   ]
  },
  {
   "cell_type": "code",
   "execution_count": 2,
   "id": "cfefb41b",
   "metadata": {},
   "outputs": [],
   "source": [
    "import tempfile"
   ]
  },
  {
   "cell_type": "code",
   "execution_count": 57,
   "id": "b848bc3e",
   "metadata": {},
   "outputs": [
    {
     "data": {
      "text/plain": [
       "(4, 'C:\\\\Users\\\\wjdgn\\\\AppData\\\\Local\\\\Temp\\\\tmpv_0_au0r')"
      ]
     },
     "execution_count": 57,
     "metadata": {},
     "output_type": "execute_result"
    }
   ],
   "source": [
    "# tempfile.mkstemp()는 중복되지 않는 임시 파일의 이름을 무작위로 만들어서 돌려준다.\n",
    "tmp = tempfile.mkstemp()\n",
    "print(tmp)"
   ]
  },
  {
   "cell_type": "code",
   "execution_count": null,
   "id": "01ec2d3c",
   "metadata": {},
   "outputs": [],
   "source": [
    "os.remove(tmp)"
   ]
  },
  {
   "cell_type": "code",
   "execution_count": 3,
   "id": "ea510c1a",
   "metadata": {},
   "outputs": [],
   "source": [
    "# tempfile.TemporaryFile()은 임시 저장 공간으로 사용할 파일 객체를 돌려준다. \n",
    "# 이 파일은 기본적으로 바이너리 쓰기 모드(wb)를 갖는다. \n",
    "# f.close()가 호출되면 이 파일 객체는 자동으로 사라진다.\n",
    "f = tempfile.TemporaryFile()\n",
    "f.close()"
   ]
  },
  {
   "cell_type": "markdown",
   "id": "b61fb500",
   "metadata": {},
   "source": [
    "# time"
   ]
  },
  {
   "cell_type": "code",
   "execution_count": 4,
   "id": "72ec04f8",
   "metadata": {},
   "outputs": [],
   "source": [
    "import time"
   ]
  },
  {
   "cell_type": "code",
   "execution_count": 5,
   "id": "907964e5",
   "metadata": {},
   "outputs": [
    {
     "data": {
      "text/plain": [
       "1641371860.955743"
      ]
     },
     "execution_count": 5,
     "metadata": {},
     "output_type": "execute_result"
    }
   ],
   "source": [
    "# time.time() : UTC를 사용하여 현재 시간을 실수 형태로 돌려주는 함수이다\n",
    "time.time()"
   ]
  },
  {
   "cell_type": "code",
   "execution_count": 6,
   "id": "63a5e0e6",
   "metadata": {},
   "outputs": [
    {
     "data": {
      "text/plain": [
       "time.struct_time(tm_year=2022, tm_mon=1, tm_mday=5, tm_hour=17, tm_min=38, tm_sec=17, tm_wday=2, tm_yday=5, tm_isdst=0)"
      ]
     },
     "execution_count": 6,
     "metadata": {},
     "output_type": "execute_result"
    }
   ],
   "source": [
    "# time.localtime : 연도, 월, 일, 시, 분, 초, ... 의 형태로 바꾸어 주는 함수이다.\n",
    "time.localtime(time.time())"
   ]
  },
  {
   "cell_type": "code",
   "execution_count": 7,
   "id": "88e0ecc5",
   "metadata": {},
   "outputs": [
    {
     "data": {
      "text/plain": [
       "'Wed Jan  5 17:39:18 2022'"
      ]
     },
     "execution_count": 7,
     "metadata": {},
     "output_type": "execute_result"
    }
   ],
   "source": [
    "# time.asctime : ime.localtime에 의해서 반환된 튜플 형태의 값을 인수로 받아서 알아보기 쉬운 형태로 돌려주는 함수이다.\n",
    "time.asctime(time.localtime(time.time()))"
   ]
  },
  {
   "cell_type": "code",
   "execution_count": 8,
   "id": "bd8a7d88",
   "metadata": {},
   "outputs": [
    {
     "data": {
      "text/plain": [
       "'Wed Jan  5 17:40:19 2022'"
      ]
     },
     "execution_count": 8,
     "metadata": {},
     "output_type": "execute_result"
    }
   ],
   "source": [
    "# time.ctime : 항상 현재 시간을 보기 편한 평태로 출력하는 함수이다.\n",
    "time.ctime()"
   ]
  },
  {
   "cell_type": "code",
   "execution_count": 9,
   "id": "30c0ffd3",
   "metadata": {},
   "outputs": [
    {
     "data": {
      "text/plain": [
       "'Wed Jan  5 19:05:12 2022'"
      ]
     },
     "execution_count": 9,
     "metadata": {},
     "output_type": "execute_result"
    }
   ],
   "source": [
    "# time.strftime : strftime 함수는 시간에 관계된 것을 세밀하게 표현하는 여러 가지 포맷 코드를 제공한다.\n",
    "time.strftime('%c', time.localtime(time.time()))"
   ]
  },
  {
   "cell_type": "code",
   "execution_count": null,
   "id": "2bf4cadc",
   "metadata": {},
   "outputs": [],
   "source": [
    "# time.sleep(second) : 일정한 시간 간격 동안 프로그램을 멈춘다.\n",
    "time.sleep(5)"
   ]
  },
  {
   "cell_type": "markdown",
   "id": "1d0cbcee",
   "metadata": {},
   "source": [
    "# calendar\n"
   ]
  },
  {
   "cell_type": "code",
   "execution_count": 1,
   "id": "039e5402",
   "metadata": {},
   "outputs": [],
   "source": [
    "import calendar"
   ]
  },
  {
   "cell_type": "code",
   "execution_count": 2,
   "id": "b185e718",
   "metadata": {},
   "outputs": [
    {
     "data": {
      "text/plain": [
       "'                                  2022\\n\\n      January                   February                   March\\nMo Tu We Th Fr Sa Su      Mo Tu We Th Fr Sa Su      Mo Tu We Th Fr Sa Su\\n                1  2          1  2  3  4  5  6          1  2  3  4  5  6\\n 3  4  5  6  7  8  9       7  8  9 10 11 12 13       7  8  9 10 11 12 13\\n10 11 12 13 14 15 16      14 15 16 17 18 19 20      14 15 16 17 18 19 20\\n17 18 19 20 21 22 23      21 22 23 24 25 26 27      21 22 23 24 25 26 27\\n24 25 26 27 28 29 30      28                        28 29 30 31\\n31\\n\\n       April                      May                       June\\nMo Tu We Th Fr Sa Su      Mo Tu We Th Fr Sa Su      Mo Tu We Th Fr Sa Su\\n             1  2  3                         1             1  2  3  4  5\\n 4  5  6  7  8  9 10       2  3  4  5  6  7  8       6  7  8  9 10 11 12\\n11 12 13 14 15 16 17       9 10 11 12 13 14 15      13 14 15 16 17 18 19\\n18 19 20 21 22 23 24      16 17 18 19 20 21 22      20 21 22 23 24 25 26\\n25 26 27 28 29 30         23 24 25 26 27 28 29      27 28 29 30\\n                          30 31\\n\\n        July                     August                  September\\nMo Tu We Th Fr Sa Su      Mo Tu We Th Fr Sa Su      Mo Tu We Th Fr Sa Su\\n             1  2  3       1  2  3  4  5  6  7                1  2  3  4\\n 4  5  6  7  8  9 10       8  9 10 11 12 13 14       5  6  7  8  9 10 11\\n11 12 13 14 15 16 17      15 16 17 18 19 20 21      12 13 14 15 16 17 18\\n18 19 20 21 22 23 24      22 23 24 25 26 27 28      19 20 21 22 23 24 25\\n25 26 27 28 29 30 31      29 30 31                  26 27 28 29 30\\n\\n      October                   November                  December\\nMo Tu We Th Fr Sa Su      Mo Tu We Th Fr Sa Su      Mo Tu We Th Fr Sa Su\\n                1  2          1  2  3  4  5  6                1  2  3  4\\n 3  4  5  6  7  8  9       7  8  9 10 11 12 13       5  6  7  8  9 10 11\\n10 11 12 13 14 15 16      14 15 16 17 18 19 20      12 13 14 15 16 17 18\\n17 18 19 20 21 22 23      21 22 23 24 25 26 27      19 20 21 22 23 24 25\\n24 25 26 27 28 29 30      28 29 30                  26 27 28 29 30 31\\n31\\n'"
      ]
     },
     "execution_count": 2,
     "metadata": {},
     "output_type": "execute_result"
    }
   ],
   "source": [
    "# calendar.calendar : 해당 년도의 전체 달력을 볼 수 있다.\n",
    "calendar.calendar(2022)"
   ]
  },
  {
   "cell_type": "code",
   "execution_count": 3,
   "id": "f28531ad",
   "metadata": {},
   "outputs": [
    {
     "name": "stdout",
     "output_type": "stream",
     "text": [
      "    January 2022\n",
      "Mo Tu We Th Fr Sa Su\n",
      "                1  2\n",
      " 3  4  5  6  7  8  9\n",
      "10 11 12 13 14 15 16\n",
      "17 18 19 20 21 22 23\n",
      "24 25 26 27 28 29 30\n",
      "31\n"
     ]
    }
   ],
   "source": [
    "# calendar.prmonth : 특정 년도, 달의 달력을 보여준다.\n",
    "calendar.prmonth(2022, 1)"
   ]
  },
  {
   "cell_type": "code",
   "execution_count": 4,
   "id": "a3084a99",
   "metadata": {},
   "outputs": [
    {
     "data": {
      "text/plain": [
       "2"
      ]
     },
     "execution_count": 4,
     "metadata": {},
     "output_type": "execute_result"
    }
   ],
   "source": [
    "# calendar.weekday : 월요일은 0, 화요일은 1, 수요일은 2, 목요일은 3, 금요일은 4, 토요일은 5, 일요일은 6이라는 값을 돌려준다.\n",
    "calendar.weekday(2022, 1, 5)"
   ]
  },
  {
   "cell_type": "code",
   "execution_count": 5,
   "id": "c4d14346",
   "metadata": {},
   "outputs": [
    {
     "data": {
      "text/plain": [
       "(5, 31)"
      ]
     },
     "execution_count": 5,
     "metadata": {},
     "output_type": "execute_result"
    }
   ],
   "source": [
    "# calendar.monthrange : 입력받은 달의 1일이 무슨 요일인지와 그 달이 며칠까지 있는지를 튜플 형태로 돌려준다.\n",
    "calendar.monthrange(2022, 1)"
   ]
  },
  {
   "cell_type": "markdown",
   "id": "18baacf7",
   "metadata": {},
   "source": [
    "# random"
   ]
  },
  {
   "cell_type": "code",
   "execution_count": 6,
   "id": "9a175dcd",
   "metadata": {},
   "outputs": [],
   "source": [
    "import random"
   ]
  },
  {
   "cell_type": "code",
   "execution_count": 10,
   "id": "a5c5016b",
   "metadata": {},
   "outputs": [
    {
     "data": {
      "text/plain": [
       "0.5201280400952967"
      ]
     },
     "execution_count": 10,
     "metadata": {},
     "output_type": "execute_result"
    }
   ],
   "source": [
    "# random.random : 0에서 1 사이의 실수 중에서 난수 값을 돌려준다.\n",
    "random.random()"
   ]
  },
  {
   "cell_type": "code",
   "execution_count": 7,
   "id": "84decb40",
   "metadata": {},
   "outputs": [
    {
     "data": {
      "text/plain": [
       "1"
      ]
     },
     "execution_count": 7,
     "metadata": {},
     "output_type": "execute_result"
    }
   ],
   "source": [
    "# random.randint : a에서 b 사이의 정수 중에서 난수 값을 돌려준다.\n",
    "random.randint(1,10)"
   ]
  },
  {
   "cell_type": "code",
   "execution_count": 9,
   "id": "29d6e9d6",
   "metadata": {},
   "outputs": [
    {
     "name": "stdout",
     "output_type": "stream",
     "text": [
      "[2, 5, 3, 4, 1]\n"
     ]
    }
   ],
   "source": [
    "# random.shuffle : \n",
    "data = [1,2,3,4,5]\n",
    "random.shuffle(data)\n",
    "\n",
    "print(data)"
   ]
  },
  {
   "cell_type": "markdown",
   "id": "7bae1b0b",
   "metadata": {},
   "source": [
    "# webbrowser"
   ]
  },
  {
   "cell_type": "code",
   "execution_count": 14,
   "id": "dced09fa",
   "metadata": {},
   "outputs": [],
   "source": [
    "import webbrowser as wb"
   ]
  },
  {
   "cell_type": "code",
   "execution_count": 15,
   "id": "594232de",
   "metadata": {},
   "outputs": [
    {
     "data": {
      "text/plain": [
       "True"
      ]
     },
     "execution_count": 15,
     "metadata": {},
     "output_type": "execute_result"
    }
   ],
   "source": [
    "wb.open(\"http://google.com\")"
   ]
  },
  {
   "cell_type": "code",
   "execution_count": 16,
   "id": "dc5e78fc",
   "metadata": {},
   "outputs": [
    {
     "data": {
      "text/plain": [
       "True"
      ]
     },
     "execution_count": 16,
     "metadata": {},
     "output_type": "execute_result"
    }
   ],
   "source": [
    "wb.open_new(\"http://google.com\")"
   ]
  },
  {
   "cell_type": "markdown",
   "id": "c07fcdb7",
   "metadata": {},
   "source": [
    "# threading"
   ]
  },
  {
   "cell_type": "code",
   "execution_count": 17,
   "id": "36913741",
   "metadata": {},
   "outputs": [],
   "source": [
    "import threading as tr"
   ]
  },
  {
   "cell_type": "code",
   "execution_count": 19,
   "id": "c07e5991",
   "metadata": {},
   "outputs": [],
   "source": [
    "tr.Thread(target=lambda : 10**2).start()"
   ]
  },
  {
   "cell_type": "code",
   "execution_count": null,
   "id": "aca83246",
   "metadata": {},
   "outputs": [],
   "source": []
  }
 ],
 "metadata": {
  "kernelspec": {
   "display_name": "Python 3 (ipykernel)",
   "language": "python",
   "name": "python3"
  },
  "language_info": {
   "codemirror_mode": {
    "name": "ipython",
    "version": 3
   },
   "file_extension": ".py",
   "mimetype": "text/x-python",
   "name": "python",
   "nbconvert_exporter": "python",
   "pygments_lexer": "ipython3",
   "version": "3.9.7"
  }
 },
 "nbformat": 4,
 "nbformat_minor": 5
}
