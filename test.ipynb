{
 "cells": [
  {
   "cell_type": "markdown",
   "id": "74061ee2",
   "metadata": {},
   "source": [
    "# 사칙연산"
   ]
  },
  {
   "cell_type": "markdown",
   "id": "09ef0ed5",
   "metadata": {},
   "source": [
    "#### 나눗셈"
   ]
  },
  {
   "cell_type": "code",
   "execution_count": 1,
   "id": "62760e8d",
   "metadata": {},
   "outputs": [
    {
     "data": {
      "text/plain": [
       "1666.6666666666667"
      ]
     },
     "execution_count": 1,
     "metadata": {},
     "output_type": "execute_result"
    }
   ],
   "source": [
    "5000 / 3"
   ]
  },
  {
   "cell_type": "code",
   "execution_count": 2,
   "id": "aa9e1c54",
   "metadata": {},
   "outputs": [
    {
     "data": {
      "text/plain": [
       "1666"
      ]
     },
     "execution_count": 2,
     "metadata": {},
     "output_type": "execute_result"
    }
   ],
   "source": [
    "5000 // 3"
   ]
  },
  {
   "cell_type": "code",
   "execution_count": 3,
   "id": "71f08f38",
   "metadata": {},
   "outputs": [
    {
     "data": {
      "text/plain": [
       "2"
      ]
     },
     "execution_count": 3,
     "metadata": {},
     "output_type": "execute_result"
    }
   ],
   "source": [
    "5000 % 3"
   ]
  },
  {
   "cell_type": "code",
   "execution_count": 4,
   "id": "9747feb7",
   "metadata": {},
   "outputs": [
    {
     "data": {
      "text/plain": [
       "(1666, 2)"
      ]
     },
     "execution_count": 4,
     "metadata": {},
     "output_type": "execute_result"
    }
   ],
   "source": [
    "divmod(5000, 3)"
   ]
  },
  {
   "cell_type": "markdown",
   "id": "671ec67c",
   "metadata": {},
   "source": [
    "#### 제곱"
   ]
  },
  {
   "cell_type": "code",
   "execution_count": 10,
   "id": "3f06c2a0",
   "metadata": {},
   "outputs": [
    {
     "data": {
      "text/plain": [
       "81"
      ]
     },
     "execution_count": 10,
     "metadata": {},
     "output_type": "execute_result"
    }
   ],
   "source": [
    "3 ** 4"
   ]
  },
  {
   "cell_type": "markdown",
   "id": "1bc8e2c8",
   "metadata": {},
   "source": [
    "#### 변수"
   ]
  },
  {
   "cell_type": "markdown",
   "id": "1bd29faa",
   "metadata": {},
   "source": [
    "##### 자료형 - 정수형"
   ]
  },
  {
   "cell_type": "code",
   "execution_count": 5,
   "id": "cc305eb7",
   "metadata": {},
   "outputs": [],
   "source": [
    "a = 123\n",
    "b = -178\n",
    "c = 0"
   ]
  },
  {
   "cell_type": "markdown",
   "id": "e629f7f0",
   "metadata": {},
   "source": [
    "##### 자료형 - 실수형"
   ]
  },
  {
   "cell_type": "code",
   "execution_count": 7,
   "id": "a6e504ea",
   "metadata": {},
   "outputs": [],
   "source": [
    "a = 1.2\n",
    "b = -3.45\n",
    "c = 4.24e-10"
   ]
  },
  {
   "cell_type": "markdown",
   "id": "294f7f2a",
   "metadata": {},
   "source": [
    "##### 자료형 - 8진수, 16진수"
   ]
  },
  {
   "cell_type": "code",
   "execution_count": 9,
   "id": "bbb13437",
   "metadata": {},
   "outputs": [],
   "source": [
    "a = 0o177\n",
    "b = 0x3ff"
   ]
  },
  {
   "cell_type": "code",
   "execution_count": null,
   "id": "0a4653c3",
   "metadata": {},
   "outputs": [],
   "source": []
  }
 ],
 "metadata": {
  "kernelspec": {
   "display_name": "Python 3 (ipykernel)",
   "language": "python",
   "name": "python3"
  },
  "language_info": {
   "codemirror_mode": {
    "name": "ipython",
    "version": 3
   },
   "file_extension": ".py",
   "mimetype": "text/x-python",
   "name": "python",
   "nbconvert_exporter": "python",
   "pygments_lexer": "ipython3",
   "version": "3.9.7"
  }
 },
 "nbformat": 4,
 "nbformat_minor": 5
}
